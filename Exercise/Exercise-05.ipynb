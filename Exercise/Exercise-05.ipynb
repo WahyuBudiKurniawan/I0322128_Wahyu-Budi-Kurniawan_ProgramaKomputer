{
 "cells": [
  {
   "attachments": {},
   "cell_type": "markdown",
   "metadata": {},
   "source": [
    "1. Buatlah program pemanggilan angka secara descending menggunakan pengulangan dari angka 50 hingga 0!"
   ]
  },
  {
   "cell_type": "code",
   "execution_count": 11,
   "metadata": {},
   "outputs": [
    {
     "name": "stdout",
     "output_type": "stream",
     "text": [
      "50,49,48,47,46,45,44,43,42,41,40,39,38,37,36,35,34,33,32,31,30,29,28,27,26,25,24,23,22,21,20,19,18,17,16,15,14,13,12,11,10,9,8,7,6,5,4,3,2,1,0."
     ]
    }
   ],
   "source": [
    "# kerjakan nomor 1 di sini\n",
    "\n",
    "for i in range(50, -1, -1) :\n",
    "    if i == 0 :\n",
    "        print(i, end=\".\")\n",
    "    else :\n",
    "        print(i, end=\",\")"
   ]
  },
  {
   "attachments": {},
   "cell_type": "markdown",
   "metadata": {},
   "source": [
    "2. Buatlah sebuah list yang berisi kota-kota yang ada di indonesia (minimal 10, salah satunya kota asal kalian), kemudian buat pengulangan yang menampilkan isi-isi dalam list tersebut, jika salah satu kota menunjukkan kota asal kalian maka tambahkan output \"kota X adalah kampung halaman saya\" (program tetap lanjut)"
   ]
  },
  {
   "cell_type": "code",
   "execution_count": 12,
   "metadata": {},
   "outputs": [
    {
     "name": "stdout",
     "output_type": "stream",
     "text": [
      "kota Purworejo adalah kampung halaman saya\n",
      "kota Purwodadi\n",
      "kota Lampung\n",
      "kota Medan\n",
      "kota Jakarta\n",
      "kota Bandung\n",
      "kota Sukoharjo\n",
      "kota Sleman\n",
      "kota Kulon Progo\n",
      "kota Semarang\n",
      "kota Boyolali\n"
     ]
    }
   ],
   "source": [
    "# Kerjakan nomor 2 di sini\n",
    "\n",
    "nama_kota = [\"Purworejo\", \"Purwodadi\", \"Lampung\", \"Medan\", \"Jakarta\", \"Bandung\", \"Sukoharjo\", \"Sleman\", \"Kulon Progo\", \"Semarang\", \"Boyolali\"]\n",
    "\n",
    "for a in nama_kota :\n",
    "    if a == \"Purworejo\" :\n",
    "        print(f\"kota {a} adalah kampung halaman saya\")\n",
    "    else :\n",
    "        print(\"kota\", a)"
   ]
  },
  {
   "attachments": {},
   "cell_type": "markdown",
   "metadata": {},
   "source": [
    "3. Disajikan list sebagai berikut"
   ]
  },
  {
   "cell_type": "code",
   "execution_count": null,
   "metadata": {},
   "outputs": [],
   "source": [
    "hari = ['senin', 'selasa','rabu','kamis','jumat','sabtu', 'minggu']\n",
    "menu_sahur = ['soto','pecel lele', 'ayam goreng', 'sayur sop', 'rendang','telur balado']"
   ]
  },
  {
   "attachments": {},
   "cell_type": "markdown",
   "metadata": {},
   "source": [
    "Abdul adalah seorang mahasiswa semester 2. Selama satu minggu ia membuat daftar menu sahur yang dia makan selama seminggu yang lalu. dengan catatan hari kamis Abdul ketiduran sehingga dia tidak sahur. Berdasarkan kasus tersebut buatlah program pengulangannya!"
   ]
  },
  {
   "cell_type": "code",
   "execution_count": 13,
   "metadata": {},
   "outputs": [
    {
     "name": "stdout",
     "output_type": "stream",
     "text": [
      "Menu sahur Abdul hari Senin : Soto\n",
      "Menu sahur Abdul hari Selasa : Pecel lele\n",
      "Menu sahur Abdul hari Rabu : Ayam goreng\n",
      "Hari kamis Abdul ketiduran sehingga dia tidak sahur\n",
      "Menu sahur Abdul hari Jumat : Rendang\n",
      "Menu sahur Abdul hari Sabtu : Telur balado\n"
     ]
    }
   ],
   "source": [
    "# kerjakan nomor 3 di sini\n",
    "\n",
    "hari = [\"Senin\", \"Selasa\", \"Rabu\", \"Kamis\", \"Jumat\", \"Sabtu\", \"Minggu\"]\n",
    "menu_sahur = [\"Soto\",\"Pecel lele\", \"Ayam goreng\", \"Sayur sop\", \"Rendang\",\"Telur balado\"]\n",
    "\n",
    "for i in range(6) :\n",
    "    if i == 3 :\n",
    "        print(f\"Hari kamis Abdul ketiduran sehingga dia tidak sahur\")\n",
    "    else :\n",
    "        print(f\"Menu sahur Abdul hari {hari[i]} : {menu_sahur[i]}\")"
   ]
  }
 ],
 "metadata": {
  "kernelspec": {
   "display_name": "Python 3",
   "language": "python",
   "name": "python3"
  },
  "language_info": {
   "codemirror_mode": {
    "name": "ipython",
    "version": 3
   },
   "file_extension": ".py",
   "mimetype": "text/x-python",
   "name": "python",
   "nbconvert_exporter": "python",
   "pygments_lexer": "ipython3",
   "version": "3.10.11"
  },
  "orig_nbformat": 4
 },
 "nbformat": 4,
 "nbformat_minor": 2
}
