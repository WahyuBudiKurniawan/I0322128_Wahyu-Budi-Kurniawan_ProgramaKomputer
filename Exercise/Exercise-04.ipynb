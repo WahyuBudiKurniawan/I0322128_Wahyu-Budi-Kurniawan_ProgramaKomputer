{
 "cells": [
  {
   "cell_type": "code",
   "execution_count": 42,
   "metadata": {},
   "outputs": [
    {
     "name": "stdout",
     "output_type": "stream",
     "text": [
      "Wahyu\n",
      "I0322128\n",
      "D\n"
     ]
    }
   ],
   "source": [
    "print(input(\"Nama: \"))\n",
    "print(input(\"NIM: \"))\n",
    "print(input(\"Kelas: \"))"
   ]
  },
  {
   "attachments": {},
   "cell_type": "markdown",
   "metadata": {},
   "source": [
    "## 1."
   ]
  },
  {
   "attachments": {},
   "cell_type": "markdown",
   "metadata": {},
   "source": [
    "Buatlah program yang menampilkan salam “Selamat Pagi” dari berbagai negara {Inggris, Perancis, Italia, Spanyol, Jepang, Korea} dengan dua input dari user yaitu bahasa dan diikuti nama user.<br>\n",
    "<br>Ex : \n",
    "<br>\"Ohayou, Onii Chan\"\n",
    "> *note: Kerjakan soal ini dengan percabangan*"
   ]
  },
  {
   "cell_type": "code",
   "execution_count": 43,
   "metadata": {},
   "outputs": [
    {
     "name": "stdout",
     "output_type": "stream",
     "text": [
      "좋은 아침이에요 Joh-eun achim-ieyo Wahyu\n"
     ]
    }
   ],
   "source": [
    "# Kerjakan soal nomor 1 disini\n",
    "\n",
    "Bahasa = str(input('Hallo kamu pengen disapa pakai bahasa apa? Disini ada bahasa Inggris, Perancis, Italia, Spanyol, Jepang, dan Korea pilih salah satu aja yaaa, Bahasa = '))\n",
    "nama = str(input('Sebutkan nama kamu, Nama = '))\n",
    "\n",
    "if Bahasa == 'Inggris' :\n",
    "    print('Good morning', nama)\n",
    "elif Bahasa == 'Perancis' :\n",
    "    print('Bonjour', nama)\n",
    "elif Bahasa == 'Italia' :\n",
    "    print('Buongiorno', nama)\n",
    "elif Bahasa == 'Spanyol' :\n",
    "    print('Buen dia', nama)\n",
    "elif Bahasa == 'Jepang' :\n",
    "    print('おはよう Ohayou', nama)\n",
    "elif Bahasa == 'Korea' :\n",
    "    print('좋은 아침이에요 Joh-eun achim-ieyo', nama)\n",
    "else :\n",
    "    print(\"Ngga ada bahasa lain yaa\")"
   ]
  },
  {
   "attachments": {},
   "cell_type": "markdown",
   "metadata": {},
   "source": [
    "## 2."
   ]
  },
  {
   "attachments": {},
   "cell_type": "markdown",
   "metadata": {},
   "source": [
    "Buatlah program perhitungan umur dengan menggunakan input user yaitu tahun lahir dari user.<br>\n",
    "<br>Output yang dihasilkan adalah sebagai berikut:\n",
    "<br>\"Apakah anda berasal dari masa depan?\"\n",
    "<br>\"Anda barusaja lahir\"\n",
    "<br>\"Umur Anda adalah xx tahun\"\n",
    "> *note: Kerjakan soal ini dengan percabangan*"
   ]
  },
  {
   "cell_type": "code",
   "execution_count": 44,
   "metadata": {},
   "outputs": [
    {
     "name": "stdout",
     "output_type": "stream",
     "text": [
      "Umur Anda adalah 19 tahun\n"
     ]
    }
   ],
   "source": [
    "# Kerjakan soal nomor 2 disini\n",
    "\n",
    "Tahun_lahir = int(input(\"Kapan Anda lahir?\"))\n",
    "\n",
    "if Tahun_lahir > 2023 :\n",
    "    print(\"Apakah Anda berasal dari masa depan?\")\n",
    "elif Tahun_lahir == 2023 :\n",
    "    print(\"Anda baru saja lahir\")\n",
    "elif Tahun_lahir < 2023 :\n",
    "    print(\"Umur Anda adalah\", 2023-Tahun_lahir, \"tahun\")"
   ]
  }
 ],
 "metadata": {
  "kernelspec": {
   "display_name": "Python 3",
   "language": "python",
   "name": "python3"
  },
  "language_info": {
   "codemirror_mode": {
    "name": "ipython",
    "version": 3
   },
   "file_extension": ".py",
   "mimetype": "text/x-python",
   "name": "python",
   "nbconvert_exporter": "python",
   "pygments_lexer": "ipython3",
   "version": "3.10.10"
  },
  "orig_nbformat": 4
 },
 "nbformat": 4,
 "nbformat_minor": 2
}
