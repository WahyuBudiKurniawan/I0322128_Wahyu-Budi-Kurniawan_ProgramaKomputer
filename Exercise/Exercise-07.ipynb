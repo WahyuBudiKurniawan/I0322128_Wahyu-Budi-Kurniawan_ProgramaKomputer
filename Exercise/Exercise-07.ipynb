{
 "cells": [
  {
   "cell_type": "code",
   "execution_count": 23,
   "metadata": {},
   "outputs": [
    {
     "name": "stdout",
     "output_type": "stream",
     "text": [
      "1 2 \n",
      "3 1 \n"
     ]
    }
   ],
   "source": [
    "#Buatlah sebuah fungsi untuk membuat matrix berdasarkan input dari user\n",
    "\n",
    "def create_matrix(baris,kolom):\n",
    "    matrix = []\n",
    "\n",
    "#Tulis kode kamu disini\n",
    "\n",
    "    return matrix\n",
    "\n",
    "baris = int(input('Masukkan Jumlah Baris:\\t'))\n",
    "kolom = int(input('Masukkan Jumlah Kolom:\\t'))\n",
    "\n",
    "matriks = []\n",
    "for i in range(baris):\n",
    "    matriks.append([])\n",
    "\n",
    "    for j in range(kolom):\n",
    "        bilangan = int(input(f\"masukkan elemen matriks [{i}][{j}]:\"))\n",
    "        matriks[i].append(bilangan)\n",
    "\n",
    "for i in range(baris):\n",
    "    for j in range(kolom):\n",
    "        print(matriks[i][j], end=\" \")\n",
    "    print()\n"
   ]
  },
  {
   "cell_type": "code",
   "execution_count": 27,
   "metadata": {},
   "outputs": [
    {
     "name": "stdout",
     "output_type": "stream",
     "text": [
      "[0.25, 1.0, -0.75]\n",
      "[-0.75, -1.0, 1.25]\n",
      "[0.75, -0.0, -0.25]\n"
     ]
    }
   ],
   "source": [
    "#Buatlah sebuah fungsi untuk mencari invers matrix berdasarkan input matrix dari user\n",
    "\n",
    "def invers():\n",
    "    det = []\n",
    "\n",
    "    #Tulis kode kamu disini\n",
    "def invers():\n",
    "\n",
    "    baris = int(input(\"Masukkan jumlah baris Anda: \"))\n",
    "    kolom = int(input(\"Masukkan jumlah kolom Anda: \"))\n",
    "\n",
    "    matrix = create_matrix(baris, kolom)\n",
    "    det = determinan(matrix)\n",
    "    \n",
    "    if det == 0:\n",
    "        print(\"Matriks tidak memiliki invers karena determinan sama dengan 0\")\n",
    "    else:\n",
    "        invers_matrix = inverse(matrix, det)\n",
    "        print_matrix(invers_matrix)\n",
    "\n",
    "def create_matrix(baris, kolom):\n",
    "    matrix = []\n",
    "    for i in range(baris):\n",
    "        row = []\n",
    "        for j in range(kolom):\n",
    "            bilangan = float(input(f\"Masukkan bilangan matriks pada baris ke-{i+1}, kolom ke-{j+1}: \"))\n",
    "            row.append(bilangan)\n",
    "        matrix.append(row)\n",
    "    return matrix \n",
    "\n",
    "def determinan(matrix):\n",
    "    a = len(matrix)\n",
    "    if a != len(matrix[0]):\n",
    "        raise ValueError(\"Matriks harus berbentuk persegi\")\n",
    "    \n",
    "    if a == 1:\n",
    "        return matrix[0][0]\n",
    "    \n",
    "    det = 0\n",
    "    for j in range(a):\n",
    "        sub_matrix = []\n",
    "        for i in range(1, a):\n",
    "            row = matrix[i][:j] + matrix[i][j+1:]\n",
    "            sub_matrix.append(row)\n",
    "        det += (-1) ** j * matrix[0][j] * determinan(sub_matrix)\n",
    "\n",
    "    return det\n",
    "\n",
    "def cofactor(matrix):\n",
    "    a = len(matrix)\n",
    "    cofactor_matrix = []\n",
    "    for i in range(a):\n",
    "        row = []\n",
    "        for j in range(a):\n",
    "            sub_matrix = []\n",
    "            for k in range(a):\n",
    "                if k != i :\n",
    "                    sub_row = matrix[k][:j] + matrix[k][j+1:]\n",
    "                    sub_matrix.append(sub_row)\n",
    "            sign = (-1) ** (i+j)\n",
    "            cofactor_ij = sign * determinan(sub_matrix)\n",
    "            row.append(cofactor_ij)\n",
    "        cofactor_matrix.append(row)\n",
    "    return cofactor_matrix\n",
    "\n",
    "def transpose(matrix):\n",
    "    a = len(matrix)\n",
    "    transpose_matrix = []\n",
    "    for j in range(a):\n",
    "        row = []\n",
    "        for i in range(a):\n",
    "            row.append(matrix[i][j])\n",
    "        transpose_matrix.append(row)\n",
    "    return transpose_matrix\n",
    "\n",
    "def inverse(matrix, det):\n",
    "    a = len(matrix)\n",
    "    cofactor_matrix = cofactor(matrix)\n",
    "    adjugate_matrix = transpose(cofactor_matrix)\n",
    "    invers_matrix = []\n",
    "    for i in range(a):\n",
    "        row = []\n",
    "        for j in range(a):\n",
    "            bilangan = adjugate_matrix[i][j] / det\n",
    "            row.append(bilangan)\n",
    "        invers_matrix.append(row)\n",
    "    return invers_matrix\n",
    "\n",
    "def print_matrix(matrix):\n",
    "    for row in matrix:\n",
    "        print(row)\n",
    "        \n",
    "invers()\n",
    "  \n",
    "\n",
    "\n",
    "\n"
   ]
  },
  {
   "cell_type": "code",
   "execution_count": 28,
   "metadata": {},
   "outputs": [
    {
     "data": {
      "text/plain": [
       "[[0.3333333333333333, 3.0, 2.6666666666666665],\n",
       " [1.3333333333333333, 2.6666666666666665, 2.3333333333333335],\n",
       " [6.333333333333333, 2.3333333333333335, 3.3333333333333335]]"
      ]
     },
     "execution_count": 28,
     "metadata": {},
     "output_type": "execute_result"
    }
   ],
   "source": [
    "#Buatlah Fungsi untuk melakukan pembagian matrix antar matrix berdasarkan input user menggunakan nested loop\n",
    "\n",
    "def bagi_matrix(matrix1, skalar):\n",
    "    hasil = []\n",
    "\n",
    "    #Tulis kode kamu disini\n",
    "    return hasil\n",
    "\n",
    "def bagi_matrix(matrix1, skalar):\n",
    "    hasil = []\n",
    "    for i in range(len(matrix1)):\n",
    "        row = []\n",
    "        for j in range(len(matrix1[0])):\n",
    "            bilangan = matrix1[i][j] / skalar\n",
    "            row.append(bilangan)\n",
    "        hasil.append(row)\n",
    "    return hasil\n",
    "\n",
    "matrix1 = [[1,9,8], [4,8,7], [19,7,10]]\n",
    "skalar = int(input('Matrix dibagi berapa?\\t'))\n",
    "\n",
    "\n",
    "\n",
    "bagi_matrix(matrix1, skalar)"
   ]
  }
 ],
 "metadata": {
  "kernelspec": {
   "display_name": "Python 3",
   "language": "python",
   "name": "python3"
  },
  "language_info": {
   "codemirror_mode": {
    "name": "ipython",
    "version": 3
   },
   "file_extension": ".py",
   "mimetype": "text/x-python",
   "name": "python",
   "nbconvert_exporter": "python",
   "pygments_lexer": "ipython3",
   "version": "3.10.11"
  },
  "orig_nbformat": 4
 },
 "nbformat": 4,
 "nbformat_minor": 2
}
