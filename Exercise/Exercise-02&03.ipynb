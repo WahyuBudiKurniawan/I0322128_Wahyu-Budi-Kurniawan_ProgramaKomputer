{
 "cells": [
  {
   "cell_type": "code",
   "execution_count": 18,
   "metadata": {},
   "outputs": [
    {
     "name": "stdout",
     "output_type": "stream",
     "text": [
      "Wahyu Budi Kurniawan\n",
      "I0322128\n",
      "D\n"
     ]
    }
   ],
   "source": [
    "print(input(\"Nama: Wahyu Budi Kurniawan\"))\n",
    "print(input(\"NIM: I0322128\"))\n",
    "print(input(\"Kelas: D\"))"
   ]
  },
  {
   "attachments": {},
   "cell_type": "markdown",
   "metadata": {},
   "source": [
    "## 1."
   ]
  },
  {
   "attachments": {},
   "cell_type": "markdown",
   "metadata": {},
   "source": [
    "diketahui dimensi sebuah aquarium tanpa penutup atas sebagai berikut:\n",
    "\n",
    "```python\n",
    "p = 11\n",
    "l = 1.99\n",
    "t = 25.87\n",
    "```\n",
    "buatkan program sederhana untuk menghitung diagonal tiap sisi dan luas permukaan aquarium tersebut tanpa menggunakan module math."
   ]
  },
  {
   "cell_type": "code",
   "execution_count": 7,
   "metadata": {},
   "outputs": [
    {
     "name": "stdout",
     "output_type": "stream",
     "text": [
      "====================\n",
      "Membuat program menghitung diagonal tiap sisi dan luas permukaan aquarium\n",
      "Berikut ini adalah program menghitung diagonal sisi dan luas permukaan aquarium\n",
      "====================\n",
      "Penyelesaian diagonal tiap sisi dan luas permukaan aquarium\n",
      "i. Diagonal Alas\n",
      "   = (p/u00b2 + 1/u00b2)^1/2\n",
      "   = (11/u00b2 + 1.99/u00b2)^1/2\n",
      "   = diagonal_Alas\n",
      "\n",
      "ii. Diagonal Sisi Depan dan Sisi Belakang\n",
      "    = (p/u00b2 + t/u00b2)^1/2\n",
      "    = (11/u00b2 + 25.87/u00b2)^1/2\n",
      "    = diagonal_DepanBelakang\n",
      "\n",
      "iii. Diagonal Sisi Kanan dan Sisi Kiri\n",
      "     = (1/u00b2 + t/u00b2)^1/2\n",
      "     = (1.99/u00b2 + 25.87/u00b2)^1/2\n",
      "     = 25.889320191924703\n",
      "\n",
      "Luas Permukaan Aquarium\n",
      "Luas permukaan = (2*p*t) + (2*l*t) + (p*l)\n",
      "               = (2*11*25.87) + (2*1.99*25.87) + (11*1.99)\n",
      "               = 569.14 + 102.96260000000001 + 11\n",
      "               = 683.1025999999999\n",
      "====================\n"
     ]
    }
   ],
   "source": [
    "#Menghitung diagonal tiap sisi dan luas permukaan aquarium \n",
    "Diketahui = \"p, l, t\"\n",
    "p = 11\n",
    "l = 1.99\n",
    "t = 25.87\n",
    "\n",
    "#Jawaban\n",
    "print(\"====================\")\n",
    "print(\"Membuat program menghitung diagonal tiap sisi dan luas permukaan aquarium\")\n",
    "print(\"Berikut ini adalah program menghitung diagonal sisi dan luas permukaan aquarium\")\n",
    "print(\"====================\")\n",
    "\n",
    "print(\"Penyelesaian diagonal tiap sisi dan luas permukaan aquarium\")\n",
    "diagonal_Alas = (p**2 + 1**2)**(1/2)\n",
    "diagonal_DepanBelakang = (p**2 + t**2)**(1/2)\n",
    "diagonal_KananKiri = (1**2 + t**2)**(1/2)\n",
    "\n",
    "print(\"i. Diagonal Alas\")\n",
    "print(\"   = (p/u00b2 + 1/u00b2)^1/2\")\n",
    "print(\"   = (11/u00b2 + 1.99/u00b2)^1/2\")\n",
    "print(\"   = diagonal_Alas\")\n",
    "print()\n",
    "print(\"ii. Diagonal Sisi Depan dan Sisi Belakang\")\n",
    "print(\"    = (p/u00b2 + t/u00b2)^1/2\")\n",
    "print(\"    = (11/u00b2 + 25.87/u00b2)^1/2\")\n",
    "print(\"    = diagonal_DepanBelakang\")\n",
    "print()\n",
    "print(\"iii. Diagonal Sisi Kanan dan Sisi Kiri\")\n",
    "print(\"     = (1/u00b2 + t/u00b2)^1/2\")\n",
    "print(\"     = (1.99/u00b2 + 25.87/u00b2)^1/2\")\n",
    "print(\"     =\", diagonal_KananKiri)\n",
    "print()\n",
    "\n",
    "print(\"Luas Permukaan Aquarium\")\n",
    "alas = p*1\n",
    "depan_belakang = 2 * p * t\n",
    "kanan_kiri = 2 * l * t\n",
    "luas_permukaan = alas + depan_belakang + kanan_kiri\n",
    "print(\"Luas permukaan =\", \"(2*p*t)\", \"+\", \"(2*l*t)\", \"+\", \"(p*l)\")\n",
    "print(\"               =\", \"(2*11*25.87)\", \"+\", \"(2*1.99*25.87)\", \"+\", \"(11*1.99)\")\n",
    "print(\"               =\", depan_belakang, \"+\", kanan_kiri, \"+\", alas)\n",
    "print(\"               =\", luas_permukaan )\n",
    "print(\"====================\")"
   ]
  },
  {
   "attachments": {},
   "cell_type": "markdown",
   "metadata": {},
   "source": [
    "## 2."
   ]
  },
  {
   "attachments": {},
   "cell_type": "markdown",
   "metadata": {},
   "source": [
    "diberikan data nilai mahasiswa sebagai berikut:"
   ]
  },
  {
   "cell_type": "code",
   "execution_count": null,
   "metadata": {},
   "outputs": [],
   "source": [
    "nilai = {\n",
    "    'Frank': 80,\n",
    "    'Abagnale': 75,\n",
    "    'Cobb': 90,\n",
    "    'Andy Dufresne': 85,\n",
    "    'Ariadne': 70\n",
    "}"
   ]
  },
  {
   "attachments": {},
   "cell_type": "markdown",
   "metadata": {},
   "source": [
    "buatlah program sederhana untuk menghitung nilai rata-rata semua mahasiswa dan mencari siapa yang mendapatkan nilai tertinggi dan nilai terendah. \n",
    "> *note: tidak perlu menggunakan loops untuk membuat program nya*"
   ]
  },
  {
   "cell_type": "code",
   "execution_count": 8,
   "metadata": {},
   "outputs": [
    {
     "name": "stdout",
     "output_type": "stream",
     "text": [
      "====================\n",
      "Program menghitung nilai rata-rata semua mahasiswa dan\n",
      "mencari siapa yang mendapatkan nilai tertinggi dan terendah\n",
      "Berikut ini program yang dibuat\n",
      "====================\n",
      "Nilai rata-rata yang diperoleh mahasiswa adalah = 80\n",
      "Nilai tertinggi yang diperoleh mahasiswa adalah = 90\n",
      "Nilai terendah yang diperoleh oleh mahasiswa adalah = 70\n",
      "====================\n"
     ]
    }
   ],
   "source": [
    "#Soal\n",
    "nilai = {\n",
    "    'Frank': 80,\n",
    "    'Abagnale': 75,\n",
    "    'Cobb': 90,\n",
    "    'Andy Dufresne': 85,\n",
    "    'Ariadne': 70\n",
    "}\n",
    "\n",
    "#Jawaban\n",
    "print(\"====================\")\n",
    "print(\"Program menghitung nilai rata-rata semua mahasiswa dan\")\n",
    "print(\"mencari siapa yang mendapatkan nilai tertinggi dan terendah\")\n",
    "print(\"Berikut ini program yang dibuat\")\n",
    "print(\"====================\")\n",
    "\n",
    "import statistics\n",
    "nilai_mahasiswa = list(nilai.values())\n",
    "nilai_rata_rata = statistics.mean(nilai_mahasiswa)\n",
    "print(\"Nilai rata-rata yang diperoleh mahasiswa adalah =\", nilai_rata_rata)\n",
    "\n",
    "nilai_maksimal = max(nilai_mahasiswa)\n",
    "print(\"Nilai tertinggi yang diperoleh mahasiswa adalah =\", nilai_maksimal)\n",
    "nilai_minimum = min(nilai_mahasiswa)\n",
    "print(\"Nilai terendah yang diperoleh oleh mahasiswa adalah =\", nilai_minimum)\n",
    "\n",
    "print(\"====================\")\n"
   ]
  },
  {
   "attachments": {},
   "cell_type": "markdown",
   "metadata": {},
   "source": [
    "## 3. "
   ]
  },
  {
   "attachments": {},
   "cell_type": "markdown",
   "metadata": {},
   "source": [
    "diberikan list aslab sebagai berikut:\n",
    "```python\n",
    "list_aslab = [\n",
    "    {\"nama\": \"Berlian Safri Prakoso\", \"nim\": \"I0320017\", \"kontak\": \"0858XXXXXXXX\"},\n",
    "    {\"nama\": \"Halidya Siti Hanifah\", \"nim\": \"I0320044\", \"kontak\": \"0878XXXXXXXX\"},\n",
    "    {\"nama\": \"Nurki Putra Mahardika\", \"nim\": \"I0320076\", \"kontak\": \"0877XXXXXXXX\"},\n",
    "    {\"nama\": \"Aji Manarul Aziz\", \"nim\": \"I0320119\", \"kontak\": \"0812XXXXXXXX\"},\n",
    "    {\"nama\": \"Alica Ayu Fitriani\", \"nim\": \"I0320121\", \"kontak\": \"0896XXXXXXXX\"},\n",
    "    {\"nama\": \"Dendy Halim Kusuma\", \"nim\": \"I0320125\", \"kontak\": \"0822XXXXXXXX\"}\n",
    "]\n",
    "```\n",
    "* **A** Tuliskan kode untuk mengakses informasi tentang \"nama\" dari semua aslab mulai dari index 1 sampai 5\n",
    "* **B** Tambahkan informasi berikut pada data aslab:\n",
    "```python\n",
    "    surel = [\"berlian@student.uns.ac.id\",\n",
    "          \"halidya@student.uns.ac.id\",\n",
    "          \"nurki@student.uns.ac.id\",\n",
    "          \"manarul@student.uns.ac.id\",\n",
    "          \"alica@student.uns.ac.id\",\n",
    "          \"dendy@student.uns.ac.id\"]\n",
    "```\n",
    "> *note: kalian hanya boleh menggunakan key-value pair yang disebutkan di dalam teks, tanpa menggunakan informasi tambahan yang diambil pada list yang ada*"
   ]
  },
  {
   "cell_type": "code",
   "execution_count": 9,
   "metadata": {},
   "outputs": [
    {
     "name": "stdout",
     "output_type": "stream",
     "text": [
      "===================\n",
      "Kode untuk mengakses informasi mengenai nama aslab dari semua aslab mulai dari index 1 sampai 5\n",
      "Berikut ini adalah list nama-nama aslab\n",
      "===================\n",
      "Nama aslab POSI ke 1 adalah, {'nama': 'Berlian Safri Prakoso', 'nim': 'I0320017', 'kontak': '0858XXXXXXXX'}\n",
      "Nama aslab POSI ke 2 adalah, {'nama': 'Halidya Siti Hanifah', 'nim': 'I0320044', 'kontak': '0878XXXXXXXX'}\n",
      "Nama aslab POSI ke 3 adalah, {'nama': 'Nurki Putra Mahardika', 'nim': 'I0320076', 'kontak': '0877XXXXXXXX'}\n",
      "Nama aslab POSI ke 4 adalah, {'nama': 'Aji Manarul Aziz', 'nim': 'I0320119', 'kontak': '0812XXXXXXXX'}\n",
      "Nama aslab POSI ke 5 adalah, {'nama': 'Alica Ayu Fitriani', 'nim': 'I0320121', 'kontak': '0896XXXXXXXX'}\n",
      "Nama aslab POSI ke 6 adalah, {'nama': 'Dendy Halim Kusuma', 'nim': 'I0320125', 'kontak': '0822XXXXXXXX'}\n",
      "===================\n"
     ]
    }
   ],
   "source": [
    "#Soal 3A\n",
    "list_aslab = [\n",
    "    {\"nama\": \"Berlian Safri Prakoso\", \"nim\": \"I0320017\", \"kontak\": \"0858XXXXXXXX\"},\n",
    "    {\"nama\": \"Halidya Siti Hanifah\", \"nim\": \"I0320044\", \"kontak\": \"0878XXXXXXXX\"},\n",
    "    {\"nama\": \"Nurki Putra Mahardika\", \"nim\": \"I0320076\", \"kontak\": \"0877XXXXXXXX\"},\n",
    "    {\"nama\": \"Aji Manarul Aziz\", \"nim\": \"I0320119\", \"kontak\": \"0812XXXXXXXX\"},\n",
    "    {\"nama\": \"Alica Ayu Fitriani\", \"nim\": \"I0320121\", \"kontak\": \"0896XXXXXXXX\"},\n",
    "    {\"nama\": \"Dendy Halim Kusuma\", \"nim\": \"I0320125\", \"kontak\": \"0822XXXXXXXX\"}\n",
    "]\n",
    "\n",
    "#Jawaban 3A\n",
    "print(\"===================\")\n",
    "print(\"Kode untuk mengakses informasi mengenai nama aslab dari semua aslab mulai dari index 1 sampai 5\")\n",
    "print(\"Berikut ini adalah list nama-nama aslab\")\n",
    "print(\"===================\")\n",
    "\n",
    "for i in range (0,len(list_aslab)):\n",
    "    print(\"Nama aslab POSI ke\", i+1, \"adalah,\", list_aslab[i])\n",
    "\n",
    "print(\"===================\")\n",
    "\n"
   ]
  },
  {
   "cell_type": "code",
   "execution_count": 10,
   "metadata": {},
   "outputs": [
    {
     "name": "stdout",
     "output_type": "stream",
     "text": [
      "===================\n",
      "Informasi tambahan berupa email dari aslab POSI\n",
      "Berikut ini adalah informasi tambahan berupa email dari aslab POSI\n",
      "===================\n",
      "Nama aslab POSI ke 1 adalah, {'nama': 'Berlian Safri Prakoso', 'nim': 'I0320017', 'kontak': '0858XXXXXXXX', 'Informasi tambahan': 'berlian@student.uns.ac.id'}\n",
      "Nama aslab POSI ke 2 adalah, {'nama': 'Halidya Siti Hanifah', 'nim': 'I0320044', 'kontak': '0878XXXXXXXX', 'Informasi tambahan': 'halidya@student.uns.ac.id'}\n",
      "Nama aslab POSI ke 3 adalah, {'nama': 'Nurki Putra Mahardika', 'nim': 'I0320076', 'kontak': '0877XXXXXXXX', 'Informasi tambahan': 'nurki@student.uns.ac.id'}\n",
      "Nama aslab POSI ke 4 adalah, {'nama': 'Aji Manarul Aziz', 'nim': 'I0320119', 'kontak': '0812XXXXXXXX', 'Informasi tambahan': 'manarul@student.uns.ac.id'}\n",
      "Nama aslab POSI ke 5 adalah, {'nama': 'Alica Ayu Fitriani', 'nim': 'I0320121', 'kontak': '0896XXXXXXXX', 'Informasi tambahan': 'alica@student.uns.ac.id'}\n",
      "Nama aslab POSI ke 6 adalah, {'nama': 'Dendy Halim Kusuma', 'nim': 'I0320125', 'kontak': '0822XXXXXXXX', 'Informasi tambahan': 'dendy@student.uns.ac.id'}\n",
      "==================\n"
     ]
    }
   ],
   "source": [
    "#Soal 3B\n",
    "list_aslab = [\n",
    "    {\"nama\": \"Berlian Safri Prakoso\", \"nim\": \"I0320017\", \"kontak\": \"0858XXXXXXXX\"},\n",
    "    {\"nama\": \"Halidya Siti Hanifah\", \"nim\": \"I0320044\", \"kontak\": \"0878XXXXXXXX\"},\n",
    "    {\"nama\": \"Nurki Putra Mahardika\", \"nim\": \"I0320076\", \"kontak\": \"0877XXXXXXXX\"},\n",
    "    {\"nama\": \"Aji Manarul Aziz\", \"nim\": \"I0320119\", \"kontak\": \"0812XXXXXXXX\"},\n",
    "    {\"nama\": \"Alica Ayu Fitriani\", \"nim\": \"I0320121\", \"kontak\": \"0896XXXXXXXX\"},\n",
    "    {\"nama\": \"Dendy Halim Kusuma\", \"nim\": \"I0320125\", \"kontak\": \"0822XXXXXXXX\"}\n",
    "]\n",
    "\n",
    "surel = [\"berlian@student.uns.ac.id\",\n",
    "          \"halidya@student.uns.ac.id\",\n",
    "          \"nurki@student.uns.ac.id\",\n",
    "          \"manarul@student.uns.ac.id\",\n",
    "          \"alica@student.uns.ac.id\",\n",
    "          \"dendy@student.uns.ac.id\"]\n",
    "\n",
    "\n",
    "#Jawaban 3B\n",
    "print(\"===================\")\n",
    "print(\"Informasi tambahan berupa email dari aslab POSI\")\n",
    "print(\"Berikut ini adalah informasi tambahan berupa email dari aslab POSI\")\n",
    "print(\"===================\")\n",
    "\n",
    "for i in range (0,len(list_aslab)):\n",
    "    list_aslab[i].update({\"Informasi tambahan\": surel[i]})\n",
    "    print(\"Nama aslab POSI ke\", i+1, \"adalah,\", list_aslab[i])\n",
    "\n",
    "print(\"==================\")"
   ]
  }
 ],
 "metadata": {
  "kernelspec": {
   "display_name": "Python 3",
   "language": "python",
   "name": "python3"
  },
  "language_info": {
   "codemirror_mode": {
    "name": "ipython",
    "version": 3
   },
   "file_extension": ".py",
   "mimetype": "text/x-python",
   "name": "python",
   "nbconvert_exporter": "python",
   "pygments_lexer": "ipython3",
   "version": "3.10.10"
  },
  "orig_nbformat": 4,
  "vscode": {
   "interpreter": {
    "hash": "5addf786bcd861d1ce5006f23111f8cbb206731e5b61b0a5632ba9e0252558a8"
   }
  }
 },
 "nbformat": 4,
 "nbformat_minor": 2
}
